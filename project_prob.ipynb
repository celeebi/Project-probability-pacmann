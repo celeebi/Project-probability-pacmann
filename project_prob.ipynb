{
 "cells": [
  {
   "cell_type": "markdown",
   "id": "e928df87",
   "metadata": {},
   "source": [
    "# THE DATA"
   ]
  },
  {
   "cell_type": "code",
   "execution_count": 179,
   "id": "f18022b9",
   "metadata": {},
   "outputs": [
    {
     "name": "stdout",
     "output_type": "stream",
     "text": [
      "Collecting statsmodels"
     ]
    },
    {
     "name": "stderr",
     "output_type": "stream",
     "text": [
      "ERROR: Exception:\n",
      "Traceback (most recent call last):\n",
      "  File \"C:\\Users\\STRONG-ASS-PC\\AppData\\Local\\Programs\\Python\\Python310\\lib\\site-packages\\pip\\_vendor\\urllib3\\response.py\", line 435, in _error_catcher\n",
      "    yield\n",
      "  File \"C:\\Users\\STRONG-ASS-PC\\AppData\\Local\\Programs\\Python\\Python310\\lib\\site-packages\\pip\\_vendor\\urllib3\\response.py\", line 516, in read\n",
      "    data = self._fp.read(amt) if not fp_closed else b\"\"\n",
      "  File \"C:\\Users\\STRONG-ASS-PC\\AppData\\Local\\Programs\\Python\\Python310\\lib\\site-packages\\pip\\_vendor\\cachecontrol\\filewrapper.py\", line 90, in read\n",
      "    data = self.__fp.read(amt)\n",
      "  File \"C:\\Users\\STRONG-ASS-PC\\AppData\\Local\\Programs\\Python\\Python310\\lib\\http\\client.py\", line 465, in read\n",
      "    s = self.fp.read(amt)\n",
      "  File \"C:\\Users\\STRONG-ASS-PC\\AppData\\Local\\Programs\\Python\\Python310\\lib\\socket.py\", line 705, in readinto\n",
      "    return self._sock.recv_into(b)\n",
      "  File \"C:\\Users\\STRONG-ASS-PC\\AppData\\Local\\Programs\\Python\\Python310\\lib\\ssl.py\", line 1273, in recv_into\n",
      "    return self.read(nbytes, buffer)\n",
      "  File \"C:\\Users\\STRONG-ASS-PC\\AppData\\Local\\Programs\\Python\\Python310\\lib\\ssl.py\", line 1129, in read\n",
      "    return self._sslobj.read(len, buffer)\n",
      "TimeoutError: The read operation timed out\n",
      "\n",
      "During handling of the above exception, another exception occurred:\n",
      "\n",
      "Traceback (most recent call last):\n",
      "  File \"C:\\Users\\STRONG-ASS-PC\\AppData\\Local\\Programs\\Python\\Python310\\lib\\site-packages\\pip\\_internal\\cli\\base_command.py\", line 167, in exc_logging_wrapper\n",
      "    status = run_func(*args)\n",
      "  File \"C:\\Users\\STRONG-ASS-PC\\AppData\\Local\\Programs\\Python\\Python310\\lib\\site-packages\\pip\\_internal\\cli\\req_command.py\", line 247, in wrapper\n",
      "    return func(self, options, args)\n",
      "  File \"C:\\Users\\STRONG-ASS-PC\\AppData\\Local\\Programs\\Python\\Python310\\lib\\site-packages\\pip\\_internal\\commands\\install.py\", line 369, in run\n",
      "    requirement_set = resolver.resolve(\n",
      "  File \"C:\\Users\\STRONG-ASS-PC\\AppData\\Local\\Programs\\Python\\Python310\\lib\\site-packages\\pip\\_internal\\resolution\\resolvelib\\resolver.py\", line 92, in resolve\n",
      "    result = self._result = resolver.resolve(\n",
      "  File \"C:\\Users\\STRONG-ASS-PC\\AppData\\Local\\Programs\\Python\\Python310\\lib\\site-packages\\pip\\_vendor\\resolvelib\\resolvers.py\", line 481, in resolve\n",
      "    state = resolution.resolve(requirements, max_rounds=max_rounds)\n",
      "  File \"C:\\Users\\STRONG-ASS-PC\\AppData\\Local\\Programs\\Python\\Python310\\lib\\site-packages\\pip\\_vendor\\resolvelib\\resolvers.py\", line 348, in resolve\n",
      "    self._add_to_criteria(self.state.criteria, r, parent=None)\n",
      "  File \"C:\\Users\\STRONG-ASS-PC\\AppData\\Local\\Programs\\Python\\Python310\\lib\\site-packages\\pip\\_vendor\\resolvelib\\resolvers.py\", line 172, in _add_to_criteria\n",
      "    if not criterion.candidates:\n",
      "  File \"C:\\Users\\STRONG-ASS-PC\\AppData\\Local\\Programs\\Python\\Python310\\lib\\site-packages\\pip\\_vendor\\resolvelib\\structs.py\", line 151, in __bool__\n",
      "    return bool(self._sequence)\n",
      "  File \"C:\\Users\\STRONG-ASS-PC\\AppData\\Local\\Programs\\Python\\Python310\\lib\\site-packages\\pip\\_internal\\resolution\\resolvelib\\found_candidates.py\", line 155, in __bool__\n",
      "    return any(self)\n",
      "  File \"C:\\Users\\STRONG-ASS-PC\\AppData\\Local\\Programs\\Python\\Python310\\lib\\site-packages\\pip\\_internal\\resolution\\resolvelib\\found_candidates.py\", line 143, in <genexpr>\n",
      "    return (c for c in iterator if id(c) not in self._incompatible_ids)\n",
      "  File \"C:\\Users\\STRONG-ASS-PC\\AppData\\Local\\Programs\\Python\\Python310\\lib\\site-packages\\pip\\_internal\\resolution\\resolvelib\\found_candidates.py\", line 47, in _iter_built\n",
      "    candidate = func()\n",
      "  File \"C:\\Users\\STRONG-ASS-PC\\AppData\\Local\\Programs\\Python\\Python310\\lib\\site-packages\\pip\\_internal\\resolution\\resolvelib\\factory.py\", line 206, in _make_candidate_from_link\n",
      "    self._link_candidate_cache[link] = LinkCandidate(\n",
      "  File \"C:\\Users\\STRONG-ASS-PC\\AppData\\Local\\Programs\\Python\\Python310\\lib\\site-packages\\pip\\_internal\\resolution\\resolvelib\\candidates.py\", line 297, in __init__\n",
      "    super().__init__(\n",
      "  File \"C:\\Users\\STRONG-ASS-PC\\AppData\\Local\\Programs\\Python\\Python310\\lib\\site-packages\\pip\\_internal\\resolution\\resolvelib\\candidates.py\", line 162, in __init__\n",
      "    self.dist = self._prepare()\n",
      "  File \"C:\\Users\\STRONG-ASS-PC\\AppData\\Local\\Programs\\Python\\Python310\\lib\\site-packages\\pip\\_internal\\resolution\\resolvelib\\candidates.py\", line 231, in _prepare\n",
      "    dist = self._prepare_distribution()\n",
      "  File \"C:\\Users\\STRONG-ASS-PC\\AppData\\Local\\Programs\\Python\\Python310\\lib\\site-packages\\pip\\_internal\\resolution\\resolvelib\\candidates.py\", line 308, in _prepare_distribution\n",
      "    return preparer.prepare_linked_requirement(self._ireq, parallel_builds=True)\n",
      "  File \"C:\\Users\\STRONG-ASS-PC\\AppData\\Local\\Programs\\Python\\Python310\\lib\\site-packages\\pip\\_internal\\operations\\prepare.py\", line 438, in prepare_linked_requirement\n",
      "    return self._prepare_linked_requirement(req, parallel_builds)\n",
      "  File \"C:\\Users\\STRONG-ASS-PC\\AppData\\Local\\Programs\\Python\\Python310\\lib\\site-packages\\pip\\_internal\\operations\\prepare.py\", line 483, in _prepare_linked_requirement\n",
      "    local_file = unpack_url(\n",
      "  File \"C:\\Users\\STRONG-ASS-PC\\AppData\\Local\\Programs\\Python\\Python310\\lib\\site-packages\\pip\\_internal\\operations\\prepare.py\", line 165, in unpack_url\n",
      "    file = get_http_url(\n",
      "  File \"C:\\Users\\STRONG-ASS-PC\\AppData\\Local\\Programs\\Python\\Python310\\lib\\site-packages\\pip\\_internal\\operations\\prepare.py\", line 106, in get_http_url\n",
      "    from_path, content_type = download(link, temp_dir.path)\n",
      "  File \"C:\\Users\\STRONG-ASS-PC\\AppData\\Local\\Programs\\Python\\Python310\\lib\\site-packages\\pip\\_internal\\network\\download.py\", line 147, in __call__\n",
      "    for chunk in chunks:\n",
      "  File \"C:\\Users\\STRONG-ASS-PC\\AppData\\Local\\Programs\\Python\\Python310\\lib\\site-packages\\pip\\_internal\\cli\\progress_bars.py\", line 53, in _rich_progress_bar\n",
      "    for chunk in iterable:\n",
      "  File \"C:\\Users\\STRONG-ASS-PC\\AppData\\Local\\Programs\\Python\\Python310\\lib\\site-packages\\pip\\_internal\\network\\utils.py\", line 63, in response_chunks\n",
      "    for chunk in response.raw.stream(\n",
      "  File \"C:\\Users\\STRONG-ASS-PC\\AppData\\Local\\Programs\\Python\\Python310\\lib\\site-packages\\pip\\_vendor\\urllib3\\response.py\", line 573, in stream\n",
      "    data = self.read(amt=amt, decode_content=decode_content)\n",
      "  File \"C:\\Users\\STRONG-ASS-PC\\AppData\\Local\\Programs\\Python\\Python310\\lib\\site-packages\\pip\\_vendor\\urllib3\\response.py\", line 509, in read\n",
      "    with self._error_catcher():\n",
      "  File \"C:\\Users\\STRONG-ASS-PC\\AppData\\Local\\Programs\\Python\\Python310\\lib\\contextlib.py\", line 153, in __exit__\n",
      "    self.gen.throw(typ, value, traceback)\n",
      "  File \"C:\\Users\\STRONG-ASS-PC\\AppData\\Local\\Programs\\Python\\Python310\\lib\\site-packages\\pip\\_vendor\\urllib3\\response.py\", line 440, in _error_catcher\n",
      "    raise ReadTimeoutError(self._pool, None, \"Read timed out.\")\n",
      "pip._vendor.urllib3.exceptions.ReadTimeoutError: HTTPSConnectionPool(host='files.pythonhosted.org', port=443): Read timed out.\n"
     ]
    },
    {
     "name": "stdout",
     "output_type": "stream",
     "text": [
      "\n",
      "  Downloading statsmodels-0.13.2-cp310-cp310-win_amd64.whl (9.1 MB)\n",
      "     ----------------                         3.7/9.1 MB 32.9 kB/s eta 0:02:45\n"
     ]
    }
   ],
   "source": [
    "!pip install statsmodels"
   ]
  },
  {
   "cell_type": "code",
   "execution_count": 131,
   "id": "edc4a8f9",
   "metadata": {},
   "outputs": [],
   "source": [
    "import pandas as pd\n",
    "import numpy as np\n",
    "import matplotlib.pyplot as plt"
   ]
  },
  {
   "cell_type": "code",
   "execution_count": 4,
   "id": "53bbedf8",
   "metadata": {
    "scrolled": true
   },
   "outputs": [
    {
     "data": {
      "text/html": [
       "<div>\n",
       "<style scoped>\n",
       "    .dataframe tbody tr th:only-of-type {\n",
       "        vertical-align: middle;\n",
       "    }\n",
       "\n",
       "    .dataframe tbody tr th {\n",
       "        vertical-align: top;\n",
       "    }\n",
       "\n",
       "    .dataframe thead th {\n",
       "        text-align: right;\n",
       "    }\n",
       "</style>\n",
       "<table border=\"1\" class=\"dataframe\">\n",
       "  <thead>\n",
       "    <tr style=\"text-align: right;\">\n",
       "      <th></th>\n",
       "      <th>age</th>\n",
       "      <th>sex</th>\n",
       "      <th>bmi</th>\n",
       "      <th>children</th>\n",
       "      <th>smoker</th>\n",
       "      <th>region</th>\n",
       "      <th>charges</th>\n",
       "    </tr>\n",
       "  </thead>\n",
       "  <tbody>\n",
       "    <tr>\n",
       "      <th>0</th>\n",
       "      <td>19</td>\n",
       "      <td>female</td>\n",
       "      <td>27.900</td>\n",
       "      <td>0</td>\n",
       "      <td>yes</td>\n",
       "      <td>southwest</td>\n",
       "      <td>16884.92400</td>\n",
       "    </tr>\n",
       "    <tr>\n",
       "      <th>1</th>\n",
       "      <td>18</td>\n",
       "      <td>male</td>\n",
       "      <td>33.770</td>\n",
       "      <td>1</td>\n",
       "      <td>no</td>\n",
       "      <td>southeast</td>\n",
       "      <td>1725.55230</td>\n",
       "    </tr>\n",
       "    <tr>\n",
       "      <th>2</th>\n",
       "      <td>28</td>\n",
       "      <td>male</td>\n",
       "      <td>33.000</td>\n",
       "      <td>3</td>\n",
       "      <td>no</td>\n",
       "      <td>southeast</td>\n",
       "      <td>4449.46200</td>\n",
       "    </tr>\n",
       "    <tr>\n",
       "      <th>3</th>\n",
       "      <td>33</td>\n",
       "      <td>male</td>\n",
       "      <td>22.705</td>\n",
       "      <td>0</td>\n",
       "      <td>no</td>\n",
       "      <td>northwest</td>\n",
       "      <td>21984.47061</td>\n",
       "    </tr>\n",
       "    <tr>\n",
       "      <th>4</th>\n",
       "      <td>32</td>\n",
       "      <td>male</td>\n",
       "      <td>28.880</td>\n",
       "      <td>0</td>\n",
       "      <td>no</td>\n",
       "      <td>northwest</td>\n",
       "      <td>3866.85520</td>\n",
       "    </tr>\n",
       "    <tr>\n",
       "      <th>...</th>\n",
       "      <td>...</td>\n",
       "      <td>...</td>\n",
       "      <td>...</td>\n",
       "      <td>...</td>\n",
       "      <td>...</td>\n",
       "      <td>...</td>\n",
       "      <td>...</td>\n",
       "    </tr>\n",
       "    <tr>\n",
       "      <th>1333</th>\n",
       "      <td>50</td>\n",
       "      <td>male</td>\n",
       "      <td>30.970</td>\n",
       "      <td>3</td>\n",
       "      <td>no</td>\n",
       "      <td>northwest</td>\n",
       "      <td>10600.54830</td>\n",
       "    </tr>\n",
       "    <tr>\n",
       "      <th>1334</th>\n",
       "      <td>18</td>\n",
       "      <td>female</td>\n",
       "      <td>31.920</td>\n",
       "      <td>0</td>\n",
       "      <td>no</td>\n",
       "      <td>northeast</td>\n",
       "      <td>2205.98080</td>\n",
       "    </tr>\n",
       "    <tr>\n",
       "      <th>1335</th>\n",
       "      <td>18</td>\n",
       "      <td>female</td>\n",
       "      <td>36.850</td>\n",
       "      <td>0</td>\n",
       "      <td>no</td>\n",
       "      <td>southeast</td>\n",
       "      <td>1629.83350</td>\n",
       "    </tr>\n",
       "    <tr>\n",
       "      <th>1336</th>\n",
       "      <td>21</td>\n",
       "      <td>female</td>\n",
       "      <td>25.800</td>\n",
       "      <td>0</td>\n",
       "      <td>no</td>\n",
       "      <td>southwest</td>\n",
       "      <td>2007.94500</td>\n",
       "    </tr>\n",
       "    <tr>\n",
       "      <th>1337</th>\n",
       "      <td>61</td>\n",
       "      <td>female</td>\n",
       "      <td>29.070</td>\n",
       "      <td>0</td>\n",
       "      <td>yes</td>\n",
       "      <td>northwest</td>\n",
       "      <td>29141.36030</td>\n",
       "    </tr>\n",
       "  </tbody>\n",
       "</table>\n",
       "<p>1338 rows × 7 columns</p>\n",
       "</div>"
      ],
      "text/plain": [
       "      age     sex     bmi  children smoker     region      charges\n",
       "0      19  female  27.900         0    yes  southwest  16884.92400\n",
       "1      18    male  33.770         1     no  southeast   1725.55230\n",
       "2      28    male  33.000         3     no  southeast   4449.46200\n",
       "3      33    male  22.705         0     no  northwest  21984.47061\n",
       "4      32    male  28.880         0     no  northwest   3866.85520\n",
       "...   ...     ...     ...       ...    ...        ...          ...\n",
       "1333   50    male  30.970         3     no  northwest  10600.54830\n",
       "1334   18  female  31.920         0     no  northeast   2205.98080\n",
       "1335   18  female  36.850         0     no  southeast   1629.83350\n",
       "1336   21  female  25.800         0     no  southwest   2007.94500\n",
       "1337   61  female  29.070         0    yes  northwest  29141.36030\n",
       "\n",
       "[1338 rows x 7 columns]"
      ]
     },
     "execution_count": 4,
     "metadata": {},
     "output_type": "execute_result"
    }
   ],
   "source": [
    "filename = \"insurance.csv\"\n",
    "insurance = pd.read_csv(filename)\n",
    "insurance"
   ]
  },
  {
   "cell_type": "code",
   "execution_count": 68,
   "id": "d1e15013",
   "metadata": {},
   "outputs": [],
   "source": [
    "smoker = insurance.smoker==\"yes\"\n",
    "non_smoker = insurance.smoker==\"no\""
   ]
  },
  {
   "cell_type": "markdown",
   "id": "bd553236",
   "metadata": {},
   "source": [
    "## Mean of the bmi and age"
   ]
  },
  {
   "cell_type": "code",
   "execution_count": 101,
   "id": "afde8cf4",
   "metadata": {},
   "outputs": [
    {
     "name": "stdout",
     "output_type": "stream",
     "text": [
      "the average age of the data is 39.20702541106129\n"
     ]
    }
   ],
   "source": [
    "#mean of the age\n",
    "n = len(insurance)\n",
    "sum_age = insurance[\"age\"].sum()\n",
    "x_bar_age = sum_age/n\n",
    "print(\"the average age of the data is {}\".format(x_bar_age))"
   ]
  },
  {
   "cell_type": "code",
   "execution_count": 102,
   "id": "15079cdd",
   "metadata": {},
   "outputs": [
    {
     "name": "stdout",
     "output_type": "stream",
     "text": [
      "the average of the BMI is 30.66339686098655\n"
     ]
    }
   ],
   "source": [
    "#bmi average\n",
    "sum_bmi = insurance[\"bmi\"].sum()\n",
    "x_bar_bmi = sum_bmi/n\n",
    "print(\"the average of the BMI is {}\".format(x_bar_bmi))"
   ]
  },
  {
   "cell_type": "code",
   "execution_count": 103,
   "id": "714af3a0",
   "metadata": {},
   "outputs": [
    {
     "name": "stdout",
     "output_type": "stream",
     "text": [
      "the average age of the non smoker is 39.38533834586466\n"
     ]
    }
   ],
   "source": [
    "#mean of non smoker age\n",
    "n_non_smoker = len(insurance[non_smoker])\n",
    "sum_smoker_age = insurance[non_smoker][\"age\"].sum()\n",
    "x_bar_smoker_age = sum_smoker_age/n_non_smoker\n",
    "print(\"the average age of the non smoker is {}\".format(x_bar_smoker_age))"
   ]
  },
  {
   "cell_type": "code",
   "execution_count": 72,
   "id": "d8f66b42",
   "metadata": {},
   "outputs": [
    {
     "name": "stdout",
     "output_type": "stream",
     "text": [
      "the average of bmi of the non smoker is 30.651795112781954\n"
     ]
    }
   ],
   "source": [
    "#bmi average of non smoker\n",
    "sum_smoker_bmi = insurance[non_smoker][\"bmi\"].sum()\n",
    "x_bar_smoker_bmi = sum_smoker_bmi/n_non_smoker\n",
    "print(\"the average of bmi of the non smoker is {}\".format(x_bar_smoker_bmi))"
   ]
  },
  {
   "cell_type": "code",
   "execution_count": 73,
   "id": "40ad8acc",
   "metadata": {},
   "outputs": [
    {
     "name": "stdout",
     "output_type": "stream",
     "text": [
      "the average age of the smoker is 38.51459854014598\n"
     ]
    }
   ],
   "source": [
    "#mean of the smoker age\n",
    "n_smoker = len(insurance[smoker])\n",
    "sum_smoker_age = insurance[smoker][\"age\"].sum()\n",
    "x_bar_smoker_age = sum_smoker_age/n_smoker\n",
    "print(\"the average age of the smoker is {}\".format(x_bar_smoker_age))"
   ]
  },
  {
   "cell_type": "code",
   "execution_count": 74,
   "id": "82083e1c",
   "metadata": {},
   "outputs": [
    {
     "name": "stdout",
     "output_type": "stream",
     "text": [
      "the average of bmi of the smoker is 30.70844890510949\n"
     ]
    }
   ],
   "source": [
    "#mean of bmi of the smoker\n",
    "sum_smoker_bmi = insurance[smoker][\"bmi\"].sum()\n",
    "x_bar_smoker_bmi = sum_smoker_bmi/n_smoker\n",
    "print(\"the average of bmi of the smoker is {}\".format(x_bar_smoker_bmi))"
   ]
  },
  {
   "cell_type": "markdown",
   "id": "09e547bf",
   "metadata": {},
   "source": [
    "# variance of the charges"
   ]
  },
  {
   "cell_type": "code",
   "execution_count": 88,
   "id": "301edebe",
   "metadata": {},
   "outputs": [
    {
     "data": {
      "text/plain": [
       "133207311.20634924"
      ]
     },
     "execution_count": 88,
     "metadata": {},
     "output_type": "execute_result"
    }
   ],
   "source": [
    "#variance of the charges of smoker\n",
    "insurance[smoker][\"charges\"].var()"
   ]
  },
  {
   "cell_type": "code",
   "execution_count": 89,
   "id": "8a58e8ec",
   "metadata": {},
   "outputs": [
    {
     "data": {
      "text/plain": [
       "35925420.496111736"
      ]
     },
     "execution_count": 89,
     "metadata": {},
     "output_type": "execute_result"
    }
   ],
   "source": [
    "#variance of the charges of the non smoker\n",
    "insurance[non_smoker][\"charges\"].var()"
   ]
  },
  {
   "cell_type": "markdown",
   "id": "77cb227e",
   "metadata": {},
   "source": [
    "## average of the charges"
   ]
  },
  {
   "cell_type": "code",
   "execution_count": 91,
   "id": "aa3a74f2",
   "metadata": {},
   "outputs": [
    {
     "data": {
      "text/plain": [
       "32050.23183153284"
      ]
     },
     "execution_count": 91,
     "metadata": {},
     "output_type": "execute_result"
    }
   ],
   "source": [
    "#average of smoker charges\n",
    "insurance[smoker][\"charges\"].mean()"
   ]
  },
  {
   "cell_type": "code",
   "execution_count": 93,
   "id": "fd6a6d05",
   "metadata": {},
   "outputs": [
    {
     "data": {
      "text/plain": [
       "8434.268297856204"
      ]
     },
     "execution_count": 93,
     "metadata": {},
     "output_type": "execute_result"
    }
   ],
   "source": [
    "#average of non smoker charges\n",
    "insurance[non_smoker][\"charges\"].mean()"
   ]
  },
  {
   "cell_type": "markdown",
   "id": "cba7baf4",
   "metadata": {},
   "source": [
    "## A. first analysis [Descriptive Statistic]\n",
    "\n",
    "## 1 BMI and Age\n",
    "Dengan melihat rata rata dari umur dan bmi dari pengguna rokok dan non pengguna kita bisa melihat sedikitnya perbedaan, rata rata umurnya tidak jauh berbeda, tidak ada perbedaan yang signifikan dari BMI juga, mungkin dari rata rata umur pengguna bisa melihat ada perbedaan 0.87 dimana perokok cenderung lebih muda dibanding non perokok,  rata rata BMI pengguna rokok sedikit lebih tinggi dengan besar 0.056\n",
    "\n",
    "## 2 charges spread\n",
    "dari variansi harga kita bisa melihat bahwa perseraban data dari perokok aktif lebih besar, mengindikasikan ada nilai ekstrem (keadaan sangat sakit, sampai keadaaan yang relatif sehat), dibandingkan yang bukan merokok persebaran biaya lebih kecil dikarenakan asumsi yang sudah kita ketahui tidak merokok relatif jauh dari penyakit yang diakibatkan merokok dan terkonfirmasi di data ini.\n",
    "\n",
    "## 3 charges average\n",
    "dari rata rata harga dapat dilihat bahwa rata rata charges perokok leebih besar, mengindikasikan bahwa lebih banyak perokok yang memiliki penyakit maka butuh pertolongan lebih\n",
    "\n",
    "___"
   ]
  },
  {
   "cell_type": "markdown",
   "id": "3b77889f",
   "metadata": {},
   "source": [
    "## Gender based\n"
   ]
  },
  {
   "cell_type": "code",
   "execution_count": 95,
   "id": "07aedd40",
   "metadata": {},
   "outputs": [],
   "source": [
    "men = insurance.sex==\"male\"\n",
    "women = insurance.sex==\"female\""
   ]
  },
  {
   "cell_type": "code",
   "execution_count": 98,
   "id": "aae19c0f",
   "metadata": {},
   "outputs": [
    {
     "name": "stdout",
     "output_type": "stream",
     "text": [
      "highest charge for men is Rp.62592.87309\n",
      "highest charge for women is Rp.63770.42801\n"
     ]
    }
   ],
   "source": [
    "#comparison between max charges between sex\n",
    "max_men = insurance[men][\"charges\"].max()\n",
    "max_women = insurance[women][\"charges\"].max()\n",
    "print(\"highest charge for men is Rp.{}\".format(max_men))\n",
    "print(\"highest charge for women is Rp.{}\".format(max_women))"
   ]
  },
  {
   "cell_type": "code",
   "execution_count": 129,
   "id": "1c51e13c",
   "metadata": {},
   "outputs": [
    {
     "name": "stdout",
     "output_type": "stream",
     "text": [
      "expected value of men's charge is 13956.751177721893\n",
      "expected value of women's charge is 12569.578843835347\n"
     ]
    }
   ],
   "source": [
    "#Expected value of charge for men & women\n",
    "e_men = insurance[men][\"charges\"].mean()\n",
    "e_women = insurance[women][\"charges\"].mean()\n",
    "print(\"expected value of men's charge is {}\".format(e_men))\n",
    "print(\"expected value of women's charge is {}\".format(e_women))"
   ]
  },
  {
   "cell_type": "markdown",
   "id": "a84eb17c",
   "metadata": {},
   "source": [
    "## Regional Proportion"
   ]
  },
  {
   "cell_type": "code",
   "execution_count": 46,
   "id": "54cc2bad",
   "metadata": {},
   "outputs": [
    {
     "data": {
      "text/plain": [
       "array(['southwest', 'southeast', 'northwest', 'northeast'], dtype=object)"
      ]
     },
     "execution_count": 46,
     "metadata": {},
     "output_type": "execute_result"
    }
   ],
   "source": [
    "insurance[\"region\"].unique()"
   ]
  },
  {
   "cell_type": "code",
   "execution_count": 55,
   "id": "06882b33",
   "metadata": {},
   "outputs": [],
   "source": [
    "n_sw = len(insurance[insurance.region=='southwest'])\n",
    "n_se = len(insurance[insurance.region=='southeast'])\n",
    "n_nw = len(insurance[insurance.region=='northwest'])\n",
    "n_ne = len(insurance[insurance.region=='northeast'])"
   ]
  },
  {
   "cell_type": "code",
   "execution_count": 56,
   "id": "980349bc",
   "metadata": {},
   "outputs": [],
   "source": [
    "n_total = n_sw + n_se + n_nw + n_ne"
   ]
  },
  {
   "cell_type": "code",
   "execution_count": 57,
   "id": "af056198",
   "metadata": {},
   "outputs": [],
   "source": [
    "p_sw = n_sw/n_total\n",
    "p_se = n_se/n_total\n",
    "p_nw = n_nw/n_total\n",
    "p_ne = n_ne/n_total"
   ]
  },
  {
   "cell_type": "code",
   "execution_count": 58,
   "id": "540e9b75",
   "metadata": {},
   "outputs": [
    {
     "data": {
      "text/html": [
       "<div>\n",
       "<style scoped>\n",
       "    .dataframe tbody tr th:only-of-type {\n",
       "        vertical-align: middle;\n",
       "    }\n",
       "\n",
       "    .dataframe tbody tr th {\n",
       "        vertical-align: top;\n",
       "    }\n",
       "\n",
       "    .dataframe thead th {\n",
       "        text-align: right;\n",
       "    }\n",
       "</style>\n",
       "<table border=\"1\" class=\"dataframe\">\n",
       "  <thead>\n",
       "    <tr style=\"text-align: right;\">\n",
       "      <th></th>\n",
       "      <th>Jumlah Orang</th>\n",
       "      <th>prob</th>\n",
       "    </tr>\n",
       "  </thead>\n",
       "  <tbody>\n",
       "    <tr>\n",
       "      <th>SW</th>\n",
       "      <td>325</td>\n",
       "      <td>0.242900</td>\n",
       "    </tr>\n",
       "    <tr>\n",
       "      <th>SE</th>\n",
       "      <td>364</td>\n",
       "      <td>0.272048</td>\n",
       "    </tr>\n",
       "    <tr>\n",
       "      <th>NW</th>\n",
       "      <td>325</td>\n",
       "      <td>0.242900</td>\n",
       "    </tr>\n",
       "    <tr>\n",
       "      <th>NE</th>\n",
       "      <td>324</td>\n",
       "      <td>0.242152</td>\n",
       "    </tr>\n",
       "  </tbody>\n",
       "</table>\n",
       "</div>"
      ],
      "text/plain": [
       "    Jumlah Orang      prob\n",
       "SW           325  0.242900\n",
       "SE           364  0.272048\n",
       "NW           325  0.242900\n",
       "NE           324  0.242152"
      ]
     },
     "execution_count": 58,
     "metadata": {},
     "output_type": "execute_result"
    }
   ],
   "source": [
    "proporsi = {\"Jumlah Orang\":[n_sw, n_se, n_nw, n_ne],\n",
    "            \"prob\":[p_sw,p_se,p_nw,p_ne]}\n",
    "df = pd.DataFrame(proporsi, index = [\"SW\",\"SE\",\"NW\",\"NE\"])\n",
    "df"
   ]
  },
  {
   "cell_type": "markdown",
   "id": "eb20b7bb",
   "metadata": {},
   "source": [
    "## Smoker v Non Smoker proportion"
   ]
  },
  {
   "cell_type": "code",
   "execution_count": 105,
   "id": "1c39b7ed",
   "metadata": {},
   "outputs": [],
   "source": [
    "prob_smoker = n_smoker/n\n",
    "prob_non_smoker = n_non_smoker/n"
   ]
  },
  {
   "cell_type": "code",
   "execution_count": 106,
   "id": "2079e7ec",
   "metadata": {},
   "outputs": [
    {
     "data": {
      "text/html": [
       "<div>\n",
       "<style scoped>\n",
       "    .dataframe tbody tr th:only-of-type {\n",
       "        vertical-align: middle;\n",
       "    }\n",
       "\n",
       "    .dataframe tbody tr th {\n",
       "        vertical-align: top;\n",
       "    }\n",
       "\n",
       "    .dataframe thead th {\n",
       "        text-align: right;\n",
       "    }\n",
       "</style>\n",
       "<table border=\"1\" class=\"dataframe\">\n",
       "  <thead>\n",
       "    <tr style=\"text-align: right;\">\n",
       "      <th></th>\n",
       "      <th>Jumlah</th>\n",
       "      <th>Prob</th>\n",
       "    </tr>\n",
       "  </thead>\n",
       "  <tbody>\n",
       "    <tr>\n",
       "      <th>Smoker</th>\n",
       "      <td>274</td>\n",
       "      <td>0.204783</td>\n",
       "    </tr>\n",
       "    <tr>\n",
       "      <th>Non_smoker</th>\n",
       "      <td>1064</td>\n",
       "      <td>0.795217</td>\n",
       "    </tr>\n",
       "  </tbody>\n",
       "</table>\n",
       "</div>"
      ],
      "text/plain": [
       "            Jumlah      Prob\n",
       "Smoker         274  0.204783\n",
       "Non_smoker    1064  0.795217"
      ]
     },
     "execution_count": 106,
     "metadata": {},
     "output_type": "execute_result"
    }
   ],
   "source": [
    "smoker_non_df = pd.DataFrame({\"Jumlah\":[n_smoker,n_non_smoker],\n",
    "                              \"Prob\":[prob_smoker, prob_non_smoker]},\n",
    "                             index=[\"Smoker\",\"Non_smoker\"])\n",
    "smoker_non_df"
   ]
  },
  {
   "cell_type": "markdown",
   "id": "4d6cbd9b",
   "metadata": {},
   "source": [
    "## P(Women|Smoker) and P(Men|Smoker)"
   ]
  },
  {
   "cell_type": "code",
   "execution_count": 112,
   "id": "c3fdef0e",
   "metadata": {},
   "outputs": [],
   "source": [
    "n_women = len(insurance[women])\n",
    "n_men = len(insurance[men])\n",
    "p_women = n_women/n\n",
    "p_men = n_men/n"
   ]
  },
  {
   "cell_type": "code",
   "execution_count": 113,
   "id": "ae58de82",
   "metadata": {},
   "outputs": [],
   "source": [
    "w_and_s = insurance[women & smoker]\n",
    "n_w_and_s = len(w_and_s)\n",
    "p_w_and_s = n_w_and_s/n"
   ]
  },
  {
   "cell_type": "code",
   "execution_count": 116,
   "id": "1809d64d",
   "metadata": {},
   "outputs": [
    {
     "data": {
      "text/plain": [
       "0.4197080291970803"
      ]
     },
     "execution_count": 116,
     "metadata": {},
     "output_type": "execute_result"
    }
   ],
   "source": [
    "#calculating prob women given smoker\n",
    "p_w_s= p_w_and_s/prob_smoker\n",
    "p_w_s"
   ]
  },
  {
   "cell_type": "code",
   "execution_count": 117,
   "id": "656d923b",
   "metadata": {},
   "outputs": [],
   "source": [
    "m_and_s = insurance[men & smoker]\n",
    "n_m_and_s = len(m_and_s)\n",
    "p_m_and_s = n_m_and_s/n"
   ]
  },
  {
   "cell_type": "code",
   "execution_count": 118,
   "id": "2cf013fd",
   "metadata": {},
   "outputs": [
    {
     "data": {
      "text/plain": [
       "0.5802919708029197"
      ]
     },
     "execution_count": 118,
     "metadata": {},
     "output_type": "execute_result"
    }
   ],
   "source": [
    "#calculating prob men given smoker\n",
    "p_m_s = p_m_and_s/prob_smoker\n",
    "p_m_s"
   ]
  },
  {
   "cell_type": "markdown",
   "id": "9d809ded",
   "metadata": {},
   "source": [
    "## B. Categorical Variable analysis\n",
    "\n",
    "## 1 Gender charge\n",
    "laki laki bisa dibilang kemungkinan akan membayar lebih mahal dibanding pereempuan, dengan ekspektasi membayar 13956 dibandingkan perempuan yang membayar 12569\n",
    "\n",
    "## 2 proporsi regional\n",
    "distrubusi proporsi hampir uniform\n",
    "\n",
    "## 3 distribusi perokok dan tidak\n",
    "dari data tersbutt kebanyakan bukan merupakan perokok\n",
    "\n",
    "## 4 peluang sex diketahui merupakan perokok\n",
    "setelah didapatkan hasilnya misalkan diketahui perokok, kemungkinan sexnya merupakan laki laki, dengan probabilitas 0.58, dan perempuan 0.42\n",
    "___\n"
   ]
  },
  {
   "cell_type": "markdown",
   "id": "d42baa6f",
   "metadata": {},
   "source": [
    "## Charge given BMI & smoker"
   ]
  },
  {
   "cell_type": "code",
   "execution_count": 137,
   "id": "cdcad0e4",
   "metadata": {},
   "outputs": [
    {
     "data": {
      "text/plain": [
       "<function matplotlib.pyplot.show(close=None, block=None)>"
      ]
     },
     "execution_count": 137,
     "metadata": {},
     "output_type": "execute_result"
    },
    {
     "data": {
      "image/png": "[encoded data removed]",
      "text/plain": [
       "<Figure size 432x288 with 1 Axes>"
      ]
     },
     "metadata": {
      "needs_background": "light"
     },
     "output_type": "display_data"
    }
   ],
   "source": [
    "plt.hist(insurance[\"charges\"], bins=20)\n",
    "plt.xlabel(\"harga\")\n",
    "plt.show"
   ]
  },
  {
   "cell_type": "code",
   "execution_count": 148,
   "id": "cd2c718a",
   "metadata": {},
   "outputs": [
    {
     "data": {
      "text/plain": [
       "0.9817351598173516"
      ]
     },
     "execution_count": 148,
     "metadata": {},
     "output_type": "execute_result"
    }
   ],
   "source": [
    "# probability a smoker with BMI > 25, charged more than 16700\n",
    "\n",
    "# kondisi BMI>25 dan charge >16700\n",
    "bmi = insurance.bmi>25\n",
    "charge = insurance.charges>16700\n",
    "n_a = len(insurance[bmi&charge&smoker])\n",
    "n_smoker_bmi = len(insurance[bmi&smoker])\n",
    "# p(X>16700|smoker&bmi>25)\n",
    "(n_a/n_smoker_bmi)"
   ]
  },
  {
   "cell_type": "markdown",
   "id": "7ad9a365",
   "metadata": {},
   "source": [
    "## Charge given smoker"
   ]
  },
  {
   "cell_type": "code",
   "execution_count": null,
   "id": "75c0db56",
   "metadata": {},
   "outputs": [],
   "source": [
    "#probability charges> 16700 given perokok"
   ]
  },
  {
   "cell_type": "code",
   "execution_count": 149,
   "id": "d969458b",
   "metadata": {},
   "outputs": [
    {
     "data": {
      "text/plain": [
       "0.927007299270073"
      ]
     },
     "execution_count": 149,
     "metadata": {},
     "output_type": "execute_result"
    }
   ],
   "source": [
    "#kondisi\n",
    "n_a=len(insurance[charge&smoker])\n",
    "n=len(insurance[smoker])\n",
    "\n",
    "#p(X>16700|smoker)\n",
    "n_a/n\n"
   ]
  },
  {
   "cell_type": "markdown",
   "id": "02149850",
   "metadata": {},
   "source": [
    "## BMI and Charge"
   ]
  },
  {
   "cell_type": "code",
   "execution_count": 152,
   "id": "81196ff0",
   "metadata": {},
   "outputs": [
    {
     "data": {
      "text/plain": [
       "0.8473053892215568"
      ]
     },
     "execution_count": 152,
     "metadata": {},
     "output_type": "execute_result"
    }
   ],
   "source": [
    "#which more likely for person with BMI>25 get 16700 charge\n",
    "#compared to person with BMI<25\n",
    "\n",
    "#BMI>25\n",
    "n_a = len(insurance[bmi&charge])\n",
    "n= len(insurance[charge])\n",
    "\n",
    "#p(x>25|charge>16700)\n",
    "n_a/n"
   ]
  },
  {
   "cell_type": "code",
   "execution_count": 153,
   "id": "2c78d2e0",
   "metadata": {},
   "outputs": [
    {
     "data": {
      "text/plain": [
       "0.15269461077844312"
      ]
     },
     "execution_count": 153,
     "metadata": {},
     "output_type": "execute_result"
    }
   ],
   "source": [
    "#bmi<25\n",
    "bmi_min25=insurance.bmi<25\n",
    "n_a = len(insurance[bmi_min25&charge])\n",
    "n=len(insurance[charge])\n",
    "\n",
    "#p(x<25|charge>16700)\n",
    "n_a/n"
   ]
  },
  {
   "cell_type": "markdown",
   "id": "ee21fb90",
   "metadata": {},
   "source": [
    "## BMI, Charge, and Smoker"
   ]
  },
  {
   "cell_type": "code",
   "execution_count": 158,
   "id": "ca2c4100",
   "metadata": {},
   "outputs": [
    {
     "data": {
      "text/plain": [
       "0.6437125748502994"
      ]
     },
     "execution_count": 158,
     "metadata": {},
     "output_type": "execute_result"
    }
   ],
   "source": [
    "#p(smoker, bmi>25|charge>16700)\n",
    "n_a = len(insurance[bmi&smoker&charge])\n",
    "n=len(insurance[charge])\n",
    "\n",
    "n_a/n"
   ]
  },
  {
   "cell_type": "code",
   "execution_count": 159,
   "id": "c8dca734",
   "metadata": {},
   "outputs": [
    {
     "data": {
      "text/plain": [
       "0.20359281437125748"
      ]
     },
     "execution_count": 159,
     "metadata": {},
     "output_type": "execute_result"
    }
   ],
   "source": [
    "#p(non_smoker, bmi>25|charge>16700)\n",
    "n_a=len(insurance[bmi&non_smoker&charge])\n",
    "n_a/n"
   ]
  },
  {
   "cell_type": "markdown",
   "id": "d36236b4",
   "metadata": {},
   "source": [
    "## C. Analisa Variabel Kontinyu\n",
    "\n",
    "## 1 Peluang tagihan lebih dari 16.7k misal BMI pasien >25 dan seorang perokok\n",
    "\n",
    "dari perhitungan kita bisa melihatt bahwa pasien memiliki peluang sebesar 0.98 memiliki bayaran diatas 16.7k bila pasien merupakan perokok dan memiliki BMI diatas 25\n",
    "\n",
    "## 2 Peluang tagihan > 16.7k misal pasien merupakan perokok\n",
    "\n",
    "dari perhitungan dengan ruang sampel yang lebih besar kita mendapatkan bahwa peluang tagihan diatas 16.7k sebesar 0.92, lebih rendah misalkan kita mengetahui BMI diatas 25, mengindikasikan masalah kesehatan juga makin buruk dengan bmi yang lebih tinggi\n",
    "\n",
    "## 3 yang mana yang lebih mungkin [BMI>25/BMI<25]\n",
    "\n",
    "dari keseluruhan pasien yang mendapatkan harga 16.7k kita menghitung bahwa proporsi pasien dengan BMI>25 lebih besar yaitu 0.84, dibandingkan dengan BMI<25 yaitu 0.16\n",
    "\n",
    "## 4 yang mana yang lebih mungkin [Smoker/nonSmoker]\n",
    "\n",
    "setelah dihitunng perokok lebih mungkin mendapatkan harga > 16.7k dibandingkan nonsmoker, dengan probabilitas 0.64, dibanding non smoker 0.20\n",
    "___\n",
    "\n"
   ]
  },
  {
   "cell_type": "markdown",
   "id": "9a8e5185",
   "metadata": {},
   "source": [
    "## Korelasi BMI dan Charge"
   ]
  },
  {
   "cell_type": "code",
   "execution_count": 166,
   "id": "b010fa87",
   "metadata": {},
   "outputs": [
    {
     "data": {
      "text/html": [
       "<div>\n",
       "<style scoped>\n",
       "    .dataframe tbody tr th:only-of-type {\n",
       "        vertical-align: middle;\n",
       "    }\n",
       "\n",
       "    .dataframe tbody tr th {\n",
       "        vertical-align: top;\n",
       "    }\n",
       "\n",
       "    .dataframe thead th {\n",
       "        text-align: right;\n",
       "    }\n",
       "</style>\n",
       "<table border=\"1\" class=\"dataframe\">\n",
       "  <thead>\n",
       "    <tr style=\"text-align: right;\">\n",
       "      <th></th>\n",
       "      <th>bmi</th>\n",
       "      <th>charges</th>\n",
       "    </tr>\n",
       "  </thead>\n",
       "  <tbody>\n",
       "    <tr>\n",
       "      <th>bmi</th>\n",
       "      <td>1.000000</td>\n",
       "      <td>0.198341</td>\n",
       "    </tr>\n",
       "    <tr>\n",
       "      <th>charges</th>\n",
       "      <td>0.198341</td>\n",
       "      <td>1.000000</td>\n",
       "    </tr>\n",
       "  </tbody>\n",
       "</table>\n",
       "</div>"
      ],
      "text/plain": [
       "              bmi   charges\n",
       "bmi      1.000000  0.198341\n",
       "charges  0.198341  1.000000"
      ]
     },
     "execution_count": 166,
     "metadata": {},
     "output_type": "execute_result"
    }
   ],
   "source": [
    "insurance[[\"bmi\",\"charges\"]].corr()"
   ]
  },
  {
   "cell_type": "markdown",
   "id": "cce47435",
   "metadata": {},
   "source": [
    "## Korelasi age dan charge"
   ]
  },
  {
   "cell_type": "code",
   "execution_count": 167,
   "id": "705f4186",
   "metadata": {},
   "outputs": [
    {
     "data": {
      "text/html": [
       "<div>\n",
       "<style scoped>\n",
       "    .dataframe tbody tr th:only-of-type {\n",
       "        vertical-align: middle;\n",
       "    }\n",
       "\n",
       "    .dataframe tbody tr th {\n",
       "        vertical-align: top;\n",
       "    }\n",
       "\n",
       "    .dataframe thead th {\n",
       "        text-align: right;\n",
       "    }\n",
       "</style>\n",
       "<table border=\"1\" class=\"dataframe\">\n",
       "  <thead>\n",
       "    <tr style=\"text-align: right;\">\n",
       "      <th></th>\n",
       "      <th>age</th>\n",
       "      <th>charges</th>\n",
       "    </tr>\n",
       "  </thead>\n",
       "  <tbody>\n",
       "    <tr>\n",
       "      <th>age</th>\n",
       "      <td>1.000000</td>\n",
       "      <td>0.299008</td>\n",
       "    </tr>\n",
       "    <tr>\n",
       "      <th>charges</th>\n",
       "      <td>0.299008</td>\n",
       "      <td>1.000000</td>\n",
       "    </tr>\n",
       "  </tbody>\n",
       "</table>\n",
       "</div>"
      ],
      "text/plain": [
       "              age   charges\n",
       "age      1.000000  0.299008\n",
       "charges  0.299008  1.000000"
      ]
     },
     "execution_count": 167,
     "metadata": {},
     "output_type": "execute_result"
    }
   ],
   "source": [
    "insurance[[\"age\",\"charges\"]].corr()"
   ]
  },
  {
   "cell_type": "markdown",
   "id": "81608288",
   "metadata": {},
   "source": [
    "## Korelasi BMI dan Charge, data perokok"
   ]
  },
  {
   "cell_type": "code",
   "execution_count": 168,
   "id": "49961969",
   "metadata": {},
   "outputs": [
    {
     "data": {
      "text/html": [
       "<div>\n",
       "<style scoped>\n",
       "    .dataframe tbody tr th:only-of-type {\n",
       "        vertical-align: middle;\n",
       "    }\n",
       "\n",
       "    .dataframe tbody tr th {\n",
       "        vertical-align: top;\n",
       "    }\n",
       "\n",
       "    .dataframe thead th {\n",
       "        text-align: right;\n",
       "    }\n",
       "</style>\n",
       "<table border=\"1\" class=\"dataframe\">\n",
       "  <thead>\n",
       "    <tr style=\"text-align: right;\">\n",
       "      <th></th>\n",
       "      <th>bmi</th>\n",
       "      <th>charges</th>\n",
       "    </tr>\n",
       "  </thead>\n",
       "  <tbody>\n",
       "    <tr>\n",
       "      <th>bmi</th>\n",
       "      <td>1.000000</td>\n",
       "      <td>0.806481</td>\n",
       "    </tr>\n",
       "    <tr>\n",
       "      <th>charges</th>\n",
       "      <td>0.806481</td>\n",
       "      <td>1.000000</td>\n",
       "    </tr>\n",
       "  </tbody>\n",
       "</table>\n",
       "</div>"
      ],
      "text/plain": [
       "              bmi   charges\n",
       "bmi      1.000000  0.806481\n",
       "charges  0.806481  1.000000"
      ]
     },
     "execution_count": 168,
     "metadata": {},
     "output_type": "execute_result"
    }
   ],
   "source": [
    "insurance[smoker][[\"bmi\",\"charges\"]].corr()"
   ]
  },
  {
   "cell_type": "markdown",
   "id": "f1a68bce",
   "metadata": {},
   "source": [
    "## Korelasi BMI dan Charge, data non perokok"
   ]
  },
  {
   "cell_type": "code",
   "execution_count": 169,
   "id": "f31a7025",
   "metadata": {},
   "outputs": [
    {
     "data": {
      "text/html": [
       "<div>\n",
       "<style scoped>\n",
       "    .dataframe tbody tr th:only-of-type {\n",
       "        vertical-align: middle;\n",
       "    }\n",
       "\n",
       "    .dataframe tbody tr th {\n",
       "        vertical-align: top;\n",
       "    }\n",
       "\n",
       "    .dataframe thead th {\n",
       "        text-align: right;\n",
       "    }\n",
       "</style>\n",
       "<table border=\"1\" class=\"dataframe\">\n",
       "  <thead>\n",
       "    <tr style=\"text-align: right;\">\n",
       "      <th></th>\n",
       "      <th>bmi</th>\n",
       "      <th>charges</th>\n",
       "    </tr>\n",
       "  </thead>\n",
       "  <tbody>\n",
       "    <tr>\n",
       "      <th>bmi</th>\n",
       "      <td>1.000000</td>\n",
       "      <td>0.084037</td>\n",
       "    </tr>\n",
       "    <tr>\n",
       "      <th>charges</th>\n",
       "      <td>0.084037</td>\n",
       "      <td>1.000000</td>\n",
       "    </tr>\n",
       "  </tbody>\n",
       "</table>\n",
       "</div>"
      ],
      "text/plain": [
       "              bmi   charges\n",
       "bmi      1.000000  0.084037\n",
       "charges  0.084037  1.000000"
      ]
     },
     "execution_count": 169,
     "metadata": {},
     "output_type": "execute_result"
    }
   ],
   "source": [
    "insurance[non_smoker][[\"bmi\",\"charges\"]].corr()"
   ]
  },
  {
   "cell_type": "markdown",
   "id": "17852089",
   "metadata": {},
   "source": [
    "## D. Analisa Korelasi Variabel\n",
    "\n",
    "setelah menghitung korelasi antara BMI ke harga, dan umur ke harga, bisa dilihat bahwa korelasi bmi ke harga sebesar 0.2, sedangkan umur ke harga sebesar 0.3, bisa disimpulkan umur lebih mempengaruhi keadaan fisik dibandingkan BMI, meskipun begitu kita bisa melihat bahwa koefisien korelasinya tidak terlalu besar, banyak faktor lain yang mempengaruhi kesehatan\n",
    "\n",
    "Misalkan kita melihat ruang sampel dari perokok, kita bisa melihat bahwa korelasinya sangat besar, sebesar 0.8, bisa disimpulkan untuk perokok, semakin besar BMInya maka masalah kesehatan yang dialami kemungkinan lebih kompleks\n",
    "\n",
    "sangat berbeda dengan non perokok yang korelasi antara bmi dan harganya sangatlah kecil, disimpulkan dengan tidak merokok jauh lebih sedikit masalah kesehatan yang kita dapatkan\n",
    "___"
   ]
  },
  {
   "cell_type": "markdown",
   "id": "911a49ab",
   "metadata": {},
   "source": [
    "## Uji Hipotesis"
   ]
  },
  {
   "cell_type": "markdown",
   "id": "501e9497",
   "metadata": {},
   "source": [
    "## 1 tagihan perokok vs non perokok"
   ]
  },
  {
   "cell_type": "code",
   "execution_count": 197,
   "id": "db45d3bb",
   "metadata": {},
   "outputs": [],
   "source": [
    "# Tagihan kesehatan perokok lebih tinggi daripada tagihan kesehatan non perokok\n",
    "# uji variansi\n",
    "\n",
    "non_smoker_charge=insurance[non_smoker][\"charges\"]\n",
    "smoker_charge=insurance[smoker][\"charges\"]"
   ]
  },
  {
   "cell_type": "code",
   "execution_count": 223,
   "id": "c63acda9",
   "metadata": {},
   "outputs": [
    {
     "data": {
      "text/plain": [
       "35925420.496111736"
      ]
     },
     "execution_count": 223,
     "metadata": {},
     "output_type": "execute_result"
    }
   ],
   "source": [
    "# variance non-smoker\n",
    "non_smoker_charge.var()"
   ]
  },
  {
   "cell_type": "code",
   "execution_count": 225,
   "id": "22fd97e6",
   "metadata": {},
   "outputs": [
    {
     "data": {
      "text/plain": [
       "133207311.20634924"
      ]
     },
     "execution_count": 225,
     "metadata": {},
     "output_type": "execute_result"
    }
   ],
   "source": [
    "#variance smoker\n",
    "smoker_charge.var()"
   ]
  },
  {
   "cell_type": "code",
   "execution_count": 228,
   "id": "8c9c6050",
   "metadata": {},
   "outputs": [],
   "source": [
    "from scipy.stats import ttest_ind\n",
    "#h0 p1<=p2, dimana p1 merupakan keadaaan non smoker charge, p2 smoker\n",
    "# jadi h0 menyatakan: biaya yang tidak merokok lebih murah\n",
    "# h1 sebaliknya\n",
    "stat, p = ttest_ind(non_smoker_charge,\n",
    "                    smoker_charge,\n",
    "                    equal_var=False,\n",
    "                    alternative=\"greater\")"
   ]
  },
  {
   "cell_type": "code",
   "execution_count": 229,
   "id": "e478cac0",
   "metadata": {},
   "outputs": [
    {
     "name": "stdout",
     "output_type": "stream",
     "text": [
      "stat:-32.751887766341824, p:1.0\n"
     ]
    }
   ],
   "source": [
    "print(\"stat:{}, p:{}\".format(stat,p))"
   ]
  },
  {
   "cell_type": "code",
   "execution_count": 230,
   "id": "f08224e1",
   "metadata": {},
   "outputs": [],
   "source": [
    "#p value lebih besar dari alpha=0.05\n",
    "#terima H0\n",
    "# perokok membayar lebih mahal"
   ]
  },
  {
   "cell_type": "markdown",
   "id": "c9c3fa5b",
   "metadata": {},
   "source": [
    "## 2 Tagihan bmi 25"
   ]
  },
  {
   "cell_type": "code",
   "execution_count": 231,
   "id": "0d61557d",
   "metadata": {},
   "outputs": [
    {
     "name": "stdout",
     "output_type": "stream",
     "text": [
      "164730179.6034563\n",
      "56557707.41605782\n"
     ]
    }
   ],
   "source": [
    "# tagihan bmi>25 diatas bmi<25\n",
    "bmi_more_25 = insurance[bmi][\"charges\"]\n",
    "bmi_less_25 = insurance[bmi_min25][\"charges\"]\n",
    "var1 = bmi_more_25.var()\n",
    "var2 = bmi_less_25.var()\n",
    "print(var1)\n",
    "print(var2)"
   ]
  },
  {
   "cell_type": "code",
   "execution_count": 232,
   "id": "5b36b7a0",
   "metadata": {},
   "outputs": [],
   "source": [
    "#keadaan H0, orang dengan BMI>25 membayar lebih mahal dari pada BMI<25\n",
    "stat, p = ttest_ind(bmi_more_25,\n",
    "                    bmi_less_25,\n",
    "                    equal_var=False,\n",
    "                    alternative=\"less\")"
   ]
  },
  {
   "cell_type": "code",
   "execution_count": 233,
   "id": "96a6846e",
   "metadata": {},
   "outputs": [
    {
     "name": "stdout",
     "output_type": "stream",
     "text": [
      "stat:5.929878344096734, p:0.9999999974595514\n"
     ]
    }
   ],
   "source": [
    "print(\"stat:{}, p:{}\".format(stat,p))"
   ]
  },
  {
   "cell_type": "code",
   "execution_count": 234,
   "id": "91307bef",
   "metadata": {},
   "outputs": [],
   "source": [
    "#dengan alpha 0.05\n",
    "#H0 diterima,\n",
    "#orang dengan BMI>25 membayar lebih mahal"
   ]
  },
  {
   "cell_type": "markdown",
   "id": "6ed19ebf",
   "metadata": {},
   "source": [
    "## BMI cwk dan cwk sama"
   ]
  },
  {
   "cell_type": "code",
   "execution_count": 239,
   "id": "6eb9bdf4",
   "metadata": {},
   "outputs": [],
   "source": [
    "bmi_cowok = insurance[men][\"bmi\"]\n",
    "bmi_cewek = insurance[women][\"bmi\"]"
   ]
  },
  {
   "cell_type": "code",
   "execution_count": 240,
   "id": "71a07551",
   "metadata": {},
   "outputs": [
    {
     "data": {
      "text/plain": [
       "37.70493727081963"
      ]
     },
     "execution_count": 240,
     "metadata": {},
     "output_type": "execute_result"
    }
   ],
   "source": [
    "bmi_cowok.var()"
   ]
  },
  {
   "cell_type": "code",
   "execution_count": 241,
   "id": "a82e343b",
   "metadata": {},
   "outputs": [
    {
     "data": {
      "text/plain": [
       "36.55439515336554"
      ]
     },
     "execution_count": 241,
     "metadata": {},
     "output_type": "execute_result"
    }
   ],
   "source": [
    "bmi_cewek.var()"
   ]
  },
  {
   "cell_type": "code",
   "execution_count": 246,
   "id": "554d4c25",
   "metadata": {},
   "outputs": [
    {
     "name": "stdout",
     "output_type": "stream",
     "text": [
      "1.697027933124022\n",
      "0.04496215333917438\n"
     ]
    }
   ],
   "source": [
    "#Ho BMI cowok dan cewek sama\n",
    "stat, p = ttest_ind(bmi_cowok,\n",
    "                    bmi_cewek,\n",
    "                    equal_var=False,\n",
    "                    alternative=\"greater\")\n",
    "print(stat)\n",
    "print(p)"
   ]
  },
  {
   "cell_type": "code",
   "execution_count": null,
   "id": "22cc99d6",
   "metadata": {},
   "outputs": [],
   "source": [
    "#H0 ditolak, BMI cowok dan cewek tidak sama"
   ]
  }
 ],
 "metadata": {
  "kernelspec": {
   "display_name": "Python 3 (ipykernel)",
   "language": "python",
   "name": "python3"
  },
  "language_info": {
   "codemirror_mode": {
    "name": "ipython",
    "version": 3
   },
   "file_extension": ".py",
   "mimetype": "text/x-python",
   "name": "python",
   "nbconvert_exporter": "python",
   "pygments_lexer": "ipython3",
   "version": "3.10.4"
  }
 },
 "nbformat": 4,
 "nbformat_minor": 5
}
